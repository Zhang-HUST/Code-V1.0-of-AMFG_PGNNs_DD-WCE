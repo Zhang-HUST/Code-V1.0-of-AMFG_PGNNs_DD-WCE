{
 "cells": [
  {
   "cell_type": "code",
   "execution_count": null,
   "outputs": [],
   "source": [
    "# 创建环境：pytorch\n",
    "# conda create -n pytorch python=3.9.18\n",
    "# conda env list\t# 列出所有已创建的环境\n",
    "# conda env remove -n pytorch\t# 移除指定环境，不用运行\n",
    "# 将pytorch环境的内核安装到jupyter notebook中\n",
    "# conda activate pytorch\n",
    "# pip install --user ipykernel\n",
    "# python -m ipykernel install --user --name=pytorch\n",
    "# 查看jupyter notebook中已安装的核\n",
    "# jupyter kernelspec list \n",
    "# 在jupyter notebook中卸载已安装的核，不用运行\n",
    "# jupyter kernelspec uninstall pytorch "
   ],
   "metadata": {
    "collapsed": false
   }
  },
  {
   "cell_type": "code",
   "execution_count": null,
   "outputs": [],
   "source": [
    "# pip install --upgrade pip"
   ],
   "metadata": {
    "collapsed": false
   }
  },
  {
   "cell_type": "code",
   "execution_count": null,
   "metadata": {
    "collapsed": true,
    "pycharm": {
     "name": "#%%\n"
    }
   },
   "outputs": [],
   "source": [
    "# conda install pytorch==1.13.0 torchvision==0.14.0 torchaudio==0.13.0 pytorch-cuda=11.7 -c pytorch -c nvidia"
   ]
  },
  {
   "cell_type": "code",
   "execution_count": null,
   "outputs": [],
   "source": [
    "# torch图网络的相关库\n",
    "# pip install torch_geometric\n",
    "# pip install torch-cluster"
   ],
   "metadata": {
    "collapsed": false,
    "pycharm": {
     "name": "#%%\n"
    }
   }
  },
  {
   "cell_type": "code",
   "execution_count": null,
   "outputs": [],
   "source": [
    "# torch模型复杂度、模型结构可视化等统计相关库\n",
    "# pip install thop\n",
    "# pip install fvcore\n",
    "# pip install torchviz\n",
    "# pip install hiddenlayer\n",
    "# pip install torch-summary"
   ],
   "metadata": {
    "collapsed": false
   }
  },
  {
   "cell_type": "code",
   "execution_count": null,
   "outputs": [],
   "source": [
    "# pandas和Excel相关库\n",
    "# pip install pandas\n",
    "# pip install xlrd\n",
    "# pip install xlsxwriter"
   ],
   "metadata": {
    "collapsed": false,
    "pycharm": {
     "name": "#%%\n"
    }
   }
  },
  {
   "cell_type": "code",
   "execution_count": null,
   "outputs": [],
   "source": [
    "# python小波变换相关库\n",
    "# pip install PyWavelets"
   ],
   "metadata": {
    "collapsed": false,
    "pycharm": {
     "name": "#%%\n"
    }
   }
  },
  {
   "cell_type": "code",
   "execution_count": null,
   "outputs": [],
   "source": [
    "# 如果matplotlib和seaborn画图不兼容，执行下面语句\n",
    "# pip uninstall matplotlib\n",
    "# conda install matplotlib seaborn"
   ],
   "metadata": {
    "collapsed": false,
    "pycharm": {
     "name": "#%%\n"
    }
   }
  }
 ],
 "metadata": {
  "kernelspec": {
   "name": "pytorch",
   "language": "python",
   "display_name": "pytorch"
  },
  "language_info": {
   "codemirror_mode": {
    "name": "ipython",
    "version": 2
   },
   "file_extension": ".py",
   "mimetype": "text/x-python",
   "name": "python",
   "nbconvert_exporter": "python",
   "pygments_lexer": "ipython2",
   "version": "2.7.6"
  }
 },
 "nbformat": 4,
 "nbformat_minor": 0
}
