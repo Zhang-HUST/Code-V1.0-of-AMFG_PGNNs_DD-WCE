{
 "cells": [
  {
   "cell_type": "code",
   "execution_count": 1,
   "id": "initial_id",
   "metadata": {
    "collapsed": true,
    "ExecuteTime": {
     "end_time": "2023-10-17T17:30:35.059431900Z",
     "start_time": "2023-10-17T17:30:31.524724Z"
    }
   },
   "outputs": [],
   "source": [
    "import os\n",
    "# 下面注释掉的适合在非Pycharm 的Juypter Notebook上使用\n",
    "# import sys\n",
    "# path = os.path.join(os.path.dirname(os.getcwd()))\n",
    "# sys.path.append(path) # 将所需要的根目录添加到路径\n",
    "import warnings\n",
    "warnings.filterwarnings(\"ignore\")\n",
    "import numpy as np\n",
    "import pandas as pd\n",
    "from IPython.display import clear_output as clear\n",
    "# 导入模型\n",
    "from models.MLClassifiers.MLClassifiers import GeneralMLClassifiers\n",
    "# 导入小工具\n",
    "from utils.common_utils import printlog\n",
    "from trainTest.datasets.dataset_utils import get_fileName_weights, get_save_path, get_print_info\n",
    "from trainTest.datasets.ml_dataset_utils import get_intra_ml_datasets\n",
    "# 导入模型分类性能评价工具\n",
    "from trainTest.train.intra_train_mls import train_test_intra_ml_model"
   ]
  },
  {
   "cell_type": "code",
   "execution_count": 2,
   "outputs": [],
   "source": [
    "### 1. 获取文件路径和文件名的设置\n",
    "file_path = os.path.join(os.path.dirname(os.getcwd()) , 'preProcessing', 'trainData')\n",
    "subjects_list_global = list(['01', '02', '03', '04', '06', '31', '32', '33', '34', '36'])\n",
    "### 2. 获取dataset的设置\n",
    "total_exp_time = 5\n",
    "test_ratio = 0.2\n",
    "feature_list = ['sub_emg_features', 'sub_angle_features']\n",
    "train_test_utils = {'save_model': True, 'parameter_optimization': False, \n",
    "                    'test_metrics': ['accuracy', 'precision', 'recall', 'f1', 'specificity', 'npv'],\n",
    "                    'confusion_matrix': {'get_cm': True, 'params':{'show_type': 'all', 'plot': True, 'save_fig': True,\n",
    "                                                                   'save_results': True, 'cmap': 'YlGnBu'}},\n",
    "                    }            "
   ],
   "metadata": {
    "collapsed": false,
    "ExecuteTime": {
     "end_time": "2023-10-17T17:30:35.066427400Z",
     "start_time": "2023-10-17T17:30:35.062424800Z"
    }
   },
   "id": "726d7e5c3f07e4a4"
  },
  {
   "cell_type": "code",
   "execution_count": null,
   "outputs": [],
   "source": [
    "settings_dict = {'total_exp_time': total_exp_time}\n",
    "data_params = {'gait_or_motion': ['motion', 'gait', 'gait', 'gait'],\n",
    "               'motion_type': ['WAK', 'WAK', 'UPS', 'DNS']}\n",
    "\n",
    "# 要更改的参数\n",
    "classifiers = ['KNN', 'LDA', 'SVM', 'RF']\n",
    "\n",
    "for index in range(len(data_params['gait_or_motion'])):\n",
    "    gait_or_motion = data_params['gait_or_motion'][index]\n",
    "    motion_type = data_params['motion_type'][index]\n",
    "   \n",
    "    for classifier in classifiers:\n",
    "        model = GeneralMLClassifiers(classifier)\n",
    "        model_name = model.get_model_name()\n",
    "        printlog(info=get_print_info(gait_or_motion, motion_type, subjects_list_global), time=False, line_break=False)\n",
    "        \n",
    "        ## 开始训练和测试\n",
    "        for subject_order in range(len(subjects_list_global)):\n",
    "            subject = subjects_list_global[subject_order]\n",
    "            file_name, _, encoded_label_name, raw_label_type, _ = get_fileName_weights(file_path, gait_or_motion, motion_type, subject, subjects_list_global)\n",
    "            basic_save_path = os.path.join(os.path.dirname(os.getcwd()) , 'results', 'Intra-Subject', '12-Start-of-the-artMethodsComparison', 'AttenuationWeightedCE')\n",
    "            save_path = get_save_path(basic_save_path, gait_or_motion, motion_type, model_name, subject)\n",
    "            print('保存结果的绝对路径： ', save_path['absolute_path'])\n",
    "            print('保存结果的相对路径： ', save_path['relative_path'])\n",
    "            train_test_utils['confusion_matrix']['params']['label_type'] = raw_label_type\n",
    "            \n",
    "            for exp_tim in range(total_exp_time):\n",
    "                clear()\n",
    "                current_exp_time = exp_tim + 1\n",
    "                settings_dict['current_exp_time'] = current_exp_time\n",
    "                printlog(info='当前模型：%s'% model_name, time=True, line_break=False)\n",
    "                printlog(info='当前受试者编号：%s' % subject, time=True, line_break=False)\n",
    "                printlog(info='当前实验次数：%d / %d' % (current_exp_time, total_exp_time), time=True, line_break=False)\n",
    "                x_train, y_train, x_test, y_test = get_intra_ml_datasets(file_name, feature_list, encoded_label_name, total_exp_time, current_exp_time, test_ratio)\n",
    "                \n",
    "                model = GeneralMLClassifiers(classifier)\n",
    "                train_test_intra_ml_model(settings_dict, model, x_train, y_train, x_test, y_test, save_path, train_test_utils)\n",
    "\n",
    "        # 当一个模型针对所有受试者全部训练测试后， 计算保存所有受试者的平均结果\n",
    "        # 新增一个记录所有受试者的所有测试结果的df1\n",
    "        df1_metrics = []\n",
    "        df2_metrics_mean = []\n",
    "        df2_metrics_std = []\n",
    "        printlog(info='当前模型：%s' % model_name, time=True, line_break=True)\n",
    "        basic_file_path = os.path.join(os.path.dirname(os.getcwd()) , 'results', 'Intra-Subject', '12-Start-of-the-artMethodsComparison', 'AttenuationWeightedCE')\n",
    "\n",
    "        for subject_order in range(len(subjects_list_global)):\n",
    "            subject = subjects_list_global[subject_order]\n",
    "            metrics_file_path = get_save_path(basic_file_path, gait_or_motion, motion_type, model_name, subject)\n",
    "            metrics_file_name = os.path.join(metrics_file_path['absolute_path'], 'test_metrics.csv')\n",
    "            # 判断文件是否存在\n",
    "            if not os.path.exists(metrics_file_name):\n",
    "                print(\"受试者：%s 的文件: %s， 不存在！\" %(subject, metrics_file_name))\n",
    "            else:\n",
    "                # 读取每个受试者的test_metrics\n",
    "                print(\"读取受试者：%s 的test_metrics: \" %subject)\n",
    "                df = pd.read_csv(metrics_file_name, header=0, index_col=0)\n",
    "                # ignore_index=True参数用于重置索引，以确保索引是连续的\n",
    "                df1_metrics.extend(df.T.values[:-2, :])\n",
    "                df2_metrics_mean.append(df.T.values[-2, :])\n",
    "                df2_metrics_std.append(df.T.values[-1, :])\n",
    "\n",
    "        printlog(info='当前模型：%s, 保存所有受试者所有测试指标的平均结果' % model_name, time=False, line_break=False)\n",
    "        df1 = pd.DataFrame(df1_metrics, index=range(1, len(df1_metrics) + 1), columns=df.index)\n",
    "        # 计算平均值并添加到DataFrame\n",
    "        mean_row = df1.mean().to_frame().T  # 转换为DataFrame并进行转置\n",
    "        mean_row.index = ['mean']  # 设置索引名称\n",
    "        df1 = pd.concat([df1, mean_row])\n",
    "        # 计算标准差并添加到DataFrame\n",
    "        std_row = df1[:-1].std().to_frame().T  # 转换为DataFrame并进行转置，排除最后一行(mean行)来计算标准差\n",
    "        std_row.index = ['std']  # 设置索引名称\n",
    "        df1 = pd.concat([df1, std_row]).round(3)\n",
    "        # 保存df1  \n",
    "        dfs_save_path = os.path.dirname(metrics_file_path['absolute_path'])\n",
    "        df1_save_name = os.path.join(dfs_save_path, 'all_metrics_averaged_results.csv')\n",
    "        df1.to_csv(df1_save_name, index=True)\n",
    "\n",
    "        printlog(info='当前模型：%s, 保存单个受试者测试指标平均的平均结果' % model_name, time=False, line_break=False)\n",
    "        # 保存df2\n",
    "        df2_metrics_mean, df2_metrics_std = np.round(np.array(df2_metrics_mean), 3), np.round(np.array(df2_metrics_std), 3)\n",
    "        df2_metrics = np.array([str(df2_metrics_mean[i, j]) +'+'+ str(df2_metrics_std[i, j]) for i in range(df2_metrics_mean.shape[0]) for j in range(df2_metrics_mean.shape[1])])\n",
    "        df2_metrics = df2_metrics.reshape(df2_metrics_mean.shape)\n",
    "        df2 = pd.DataFrame(df2_metrics, index=['Sub'+i for i in subjects_list_global], columns=df.index)\n",
    "        # 计算平均值并添加到DataFrame\n",
    "        mean_row = np.round(np.mean(df2_metrics_mean, axis=0), 3)\n",
    "        std_row = np.round(np.std(df2_metrics_mean, axis=0), 3)\n",
    "        df2.loc['mean'] = mean_row\n",
    "        df2.loc['std'] = std_row\n",
    "        df2_save_name = os.path.join(dfs_save_path, 'alone_subject_averaged_results.csv')\n",
    "        df2.to_csv(df2_save_name, index=True)"
   ],
   "metadata": {
    "collapsed": false
   },
   "id": "ee3f99f707d9e4cc"
  },
  {
   "cell_type": "code",
   "execution_count": null,
   "outputs": [],
   "source": [],
   "metadata": {
    "collapsed": false
   },
   "id": "569f68f79d11d05d"
  }
 ],
 "metadata": {
  "kernelspec": {
   "name": "pytorch",
   "language": "python",
   "display_name": "pytorch"
  },
  "language_info": {
   "codemirror_mode": {
    "name": "ipython",
    "version": 2
   },
   "file_extension": ".py",
   "mimetype": "text/x-python",
   "name": "python",
   "nbconvert_exporter": "python",
   "pygments_lexer": "ipython2",
   "version": "2.7.6"
  }
 },
 "nbformat": 4,
 "nbformat_minor": 5
}
